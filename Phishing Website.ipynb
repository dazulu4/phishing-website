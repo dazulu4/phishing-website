{
 "cells": [
  {
   "cell_type": "markdown",
   "metadata": {},
   "source": [
    "# Website Phishing (scikit-learn)\n",
    "---\n",
    "#### Denis Alexander Zuluaga Quintero\n",
    "dazuluag@unal.edu.co   \n",
    "Universidad Nacional de Colombia, Sede Medellín  \n",
    "Facultad de Minas  \n",
    "Medellín, Colombia\n",
    "\n",
    "#### Contenido\n",
    "* [Comprensión del problema real](#Comprensión-del-problema-real)\n",
    "* [Comprensión de los datos](#Comprensión-de-los-datos)\n",
    "* [Preparación de los datos](#Preparación-de-los-datos)\n",
    "* [Modelado y Evaluación](#Modelado-y-Evaluación)\n",
    "* [Análisis de resultados](#Análisis-de-resultados)"
   ]
  },
  {
   "cell_type": "markdown",
   "metadata": {},
   "source": [
    "# Comprensión del problema real\n",
    "---\n",
    "\n",
    "### Objetivos del negocio\n",
    "El problema de suplantación de identidad (phishing) se considera un problema vital en la industria .COM, especialmente en la banca electrónica y el comercio electrónico. Cuando un sitio web se considera **Sospechoso**, significa que puede ser **Phishy** o **Legítimo**, lo que implica que el sitio web tiene características legítimas y de phishing. El problema requiere realizar la clasificación de cuando un sitio web es legítimo, phishing o sospechoso.\n",
    "\n",
    "### Objetivos de la míneria de datos\n",
    "El autor del conjunto de datos a identificado diferentes características relacionadas con sitios web legítimos y phishy. Se recopiló 1353 sitios web diferentes de diferentes fuentes. Los sitios web de prostitución fueron obtenidos del conjunto de datos [Phishtank](www.phishtank.com), sitio gratuito donde los usuarios pueden enviar, verificar, rastrear y compartir datos de phishing. Los sitios web legítimos se recopilaron de Yahoo y los directorios mediante un script web desarrollado en PHP. El script PHP fue conectado con un navegador y se recolectaron 548 sitios web legítimos de 1353 sitios web. Hay 702 URL de phishing y 103 URL sospechosas. Se pretende por tanto modelar y evaluar con que precisión es posible clasificar sitios web como phishing. \n",
    "\n",
    "### Referencias\n",
    "Abdelhamid et al.,(2014a) Phishing Detection based Associative Classification Data Mining. Expert Systems With Applications (ESWA), 41 (2014) 5948-5959.\n",
    "- Fuente: [UCI](https://archive.ics.uci.edu/ml/datasets/Website+Phishing)"
   ]
  },
  {
   "cell_type": "markdown",
   "metadata": {},
   "source": [
    "# Comprensión de los datos\n",
    "---\n",
    "\n",
    "Las características o atributos recopilados tienen los valores categóricos: Legitimate, Suspicious y Phishy. Estos valores han sido reemplazados con los valores numéricos 1, 0 y -1 respectivamente. Los detalles de cada característica se mencionan en el documento de investigación del autor.\n",
    "\n",
    "**Características del conjunto de datos**\n",
    "- SFH: manejador de formulario en servidor (si esta vacío o \"about:blank\" es phishing)\n",
    "- popUpWindow: ventana emergente (si contiene campos de texto es phishing)\n",
    "- SSLfinal_State: estado final SSL (no tiene certificados de confianza es phishing)\n",
    "- Request_URL: URL de la solicitud (> 66% de contenido de otro dominio es phishing)\n",
    "- URL_of_Anchor: enlace anclado en el sitio (> 67% cantidad de etiquetas \"a\" fuera del dominio o ningún link es phishing)\n",
    "- web_traffic: popularidad del sitio web (no tiene tráfico o no es reconocido por Alexa es phishing)\n",
    "- URL_Length: longitud de la URL del sitio (> 54 catacteres es phishing)\n",
    "- age_of_domain: tiempo de vida del sitio (> a 6 meses es phishing)\n",
    "- having_IP_Address: ¿el sitio utiliza dirección IP? (es phishing cuando utiliza)\n",
    "\n",
    "**Variable objetivo del conjunto de datos**\n",
    "- Result: indicador de sitio legítimo (1), sospechoso (0) y phishing (-1)\n",
    "\n",
    "**Nota:** Cada una de las características puede tener el valor 0, 1 y -1 según como se haya interpretado en el sitio web analizado. El valor 0 indica que la característica es sospechosa, un valor de 1 representa que el atributo es legítimo y -1 indica que es malicioso o phishing."
   ]
  },
  {
   "cell_type": "markdown",
   "metadata": {},
   "source": [
    "### Carga de los datos"
   ]
  },
  {
   "cell_type": "code",
   "execution_count": 1,
   "metadata": {},
   "outputs": [],
   "source": [
    "##\n",
    "## Eliminamos salida de warnings\n",
    "##\n",
    "import warnings as ws\n",
    "ws.filterwarnings(\"ignore\")\n",
    "\n",
    "##\n",
    "## Importamos las librerias requeridas\n",
    "##\n",
    "import time as tm\n",
    "import itertools\n",
    "from itertools import chain\n",
    "import numpy as np\n",
    "import pandas as pd\n",
    "from scipy import stats\n",
    "import seaborn as sns\n",
    "sns.set(style=\"darkgrid\")\n",
    "import matplotlib.pyplot as plt\n",
    "%matplotlib inline\n",
    "\n",
    "from sklearn.preprocessing import LabelEncoder\n",
    "from sklearn.preprocessing import MinMaxScaler\n",
    "from sklearn.model_selection import train_test_split\n",
    "from sklearn.model_selection import GridSearchCV\n",
    "from sklearn.model_selection import cross_val_score\n",
    "from sklearn.model_selection import cross_val_predict\n",
    "from sklearn.metrics import confusion_matrix\n",
    "from sklearn.metrics import accuracy_score\n",
    "from sklearn.metrics import recall_score\n",
    "from sklearn.metrics import f1_score\n",
    "from sklearn.metrics import roc_auc_score\n",
    "from sklearn.metrics import jaccard_similarity_score\n",
    "from sklearn.metrics import classification_report\n",
    "\n",
    "from sklearn.feature_selection import SelectKBest\n",
    "from sklearn.feature_selection import chi2\n",
    "\n",
    "from sklearn.neighbors import KNeighborsClassifier\n",
    "from sklearn.linear_model import SGDClassifier\n",
    "from sklearn.tree import DecisionTreeClassifier\n",
    "from sklearn.ensemble import RandomForestClassifier\n",
    "from sklearn.svm import SVC\n",
    "\n",
    "##\n",
    "## Función para colorear fondo en un Data Frame\n",
    "## http://pandas.pydata.org/pandas-docs/stable/style.html\n",
    "##\n",
    "def highlight_max(s):\n",
    "    is_max = s == s.max()\n",
    "    return ['background-color: cyan' if v else '' for v in is_max]"
   ]
  },
  {
   "cell_type": "code",
   "execution_count": 2,
   "metadata": {},
   "outputs": [
    {
     "data": {
      "text/html": [
       "<div>\n",
       "<style scoped>\n",
       "    .dataframe tbody tr th:only-of-type {\n",
       "        vertical-align: middle;\n",
       "    }\n",
       "\n",
       "    .dataframe tbody tr th {\n",
       "        vertical-align: top;\n",
       "    }\n",
       "\n",
       "    .dataframe thead th {\n",
       "        text-align: right;\n",
       "    }\n",
       "</style>\n",
       "<table border=\"1\" class=\"dataframe\">\n",
       "  <thead>\n",
       "    <tr style=\"text-align: right;\">\n",
       "      <th></th>\n",
       "      <th>SFH</th>\n",
       "      <th>popUpWindow</th>\n",
       "      <th>SSLfinal_State</th>\n",
       "      <th>Request_URL</th>\n",
       "      <th>URL_of_Anchor</th>\n",
       "      <th>web_traffic</th>\n",
       "      <th>URL_Length</th>\n",
       "      <th>age_of_domain</th>\n",
       "      <th>having_IP_Address</th>\n",
       "      <th>Result</th>\n",
       "    </tr>\n",
       "  </thead>\n",
       "  <tbody>\n",
       "    <tr>\n",
       "      <th>0</th>\n",
       "      <td>1</td>\n",
       "      <td>-1</td>\n",
       "      <td>1</td>\n",
       "      <td>-1</td>\n",
       "      <td>-1</td>\n",
       "      <td>1</td>\n",
       "      <td>1</td>\n",
       "      <td>1</td>\n",
       "      <td>0</td>\n",
       "      <td>0</td>\n",
       "    </tr>\n",
       "    <tr>\n",
       "      <th>1</th>\n",
       "      <td>-1</td>\n",
       "      <td>-1</td>\n",
       "      <td>-1</td>\n",
       "      <td>-1</td>\n",
       "      <td>-1</td>\n",
       "      <td>0</td>\n",
       "      <td>1</td>\n",
       "      <td>1</td>\n",
       "      <td>1</td>\n",
       "      <td>1</td>\n",
       "    </tr>\n",
       "    <tr>\n",
       "      <th>2</th>\n",
       "      <td>1</td>\n",
       "      <td>-1</td>\n",
       "      <td>0</td>\n",
       "      <td>0</td>\n",
       "      <td>-1</td>\n",
       "      <td>0</td>\n",
       "      <td>-1</td>\n",
       "      <td>1</td>\n",
       "      <td>0</td>\n",
       "      <td>1</td>\n",
       "    </tr>\n",
       "    <tr>\n",
       "      <th>3</th>\n",
       "      <td>1</td>\n",
       "      <td>0</td>\n",
       "      <td>1</td>\n",
       "      <td>-1</td>\n",
       "      <td>-1</td>\n",
       "      <td>0</td>\n",
       "      <td>1</td>\n",
       "      <td>1</td>\n",
       "      <td>0</td>\n",
       "      <td>0</td>\n",
       "    </tr>\n",
       "    <tr>\n",
       "      <th>4</th>\n",
       "      <td>-1</td>\n",
       "      <td>-1</td>\n",
       "      <td>1</td>\n",
       "      <td>-1</td>\n",
       "      <td>0</td>\n",
       "      <td>0</td>\n",
       "      <td>-1</td>\n",
       "      <td>1</td>\n",
       "      <td>0</td>\n",
       "      <td>1</td>\n",
       "    </tr>\n",
       "  </tbody>\n",
       "</table>\n",
       "</div>"
      ],
      "text/plain": [
       "   SFH  popUpWindow  SSLfinal_State  Request_URL  URL_of_Anchor  web_traffic  \\\n",
       "0    1           -1               1           -1             -1            1   \n",
       "1   -1           -1              -1           -1             -1            0   \n",
       "2    1           -1               0            0             -1            0   \n",
       "3    1            0               1           -1             -1            0   \n",
       "4   -1           -1               1           -1              0            0   \n",
       "\n",
       "   URL_Length  age_of_domain  having_IP_Address  Result  \n",
       "0           1              1                  0       0  \n",
       "1           1              1                  1       1  \n",
       "2          -1              1                  0       1  \n",
       "3           1              1                  0       0  \n",
       "4          -1              1                  0       1  "
      ]
     },
     "execution_count": 2,
     "metadata": {},
     "output_type": "execute_result"
    }
   ],
   "source": [
    "##\n",
    "## Realizamos la lectura del archivo con el conjunto de datos\n",
    "##\n",
    "data = pd.read_csv('PhishingData.csv', sep=\",\")\n",
    "\n",
    "##\n",
    "## Creamos una variable con la cantidad de registros total\n",
    "##\n",
    "N,M = data.shape\n",
    "\n",
    "##\n",
    "## Imprimimos una muestra de los datos\n",
    "##\n",
    "data.head()"
   ]
  },
  {
   "cell_type": "code",
   "execution_count": 3,
   "metadata": {},
   "outputs": [
    {
     "data": {
      "text/html": [
       "<div>\n",
       "<style scoped>\n",
       "    .dataframe tbody tr th:only-of-type {\n",
       "        vertical-align: middle;\n",
       "    }\n",
       "\n",
       "    .dataframe tbody tr th {\n",
       "        vertical-align: top;\n",
       "    }\n",
       "\n",
       "    .dataframe thead th {\n",
       "        text-align: right;\n",
       "    }\n",
       "</style>\n",
       "<table border=\"1\" class=\"dataframe\">\n",
       "  <thead>\n",
       "    <tr style=\"text-align: right;\">\n",
       "      <th></th>\n",
       "      <th>SFH</th>\n",
       "      <th>popUpWindow</th>\n",
       "      <th>SSLfinal_State</th>\n",
       "      <th>Request_URL</th>\n",
       "      <th>URL_of_Anchor</th>\n",
       "      <th>web_traffic</th>\n",
       "      <th>URL_Length</th>\n",
       "      <th>age_of_domain</th>\n",
       "      <th>having_IP_Address</th>\n",
       "      <th>Result</th>\n",
       "      <th>Class</th>\n",
       "    </tr>\n",
       "  </thead>\n",
       "  <tbody>\n",
       "    <tr>\n",
       "      <th>0</th>\n",
       "      <td>1</td>\n",
       "      <td>-1</td>\n",
       "      <td>1</td>\n",
       "      <td>-1</td>\n",
       "      <td>-1</td>\n",
       "      <td>1</td>\n",
       "      <td>1</td>\n",
       "      <td>1</td>\n",
       "      <td>0</td>\n",
       "      <td>0</td>\n",
       "      <td>Suspicious</td>\n",
       "    </tr>\n",
       "    <tr>\n",
       "      <th>1</th>\n",
       "      <td>-1</td>\n",
       "      <td>-1</td>\n",
       "      <td>-1</td>\n",
       "      <td>-1</td>\n",
       "      <td>-1</td>\n",
       "      <td>0</td>\n",
       "      <td>1</td>\n",
       "      <td>1</td>\n",
       "      <td>1</td>\n",
       "      <td>1</td>\n",
       "      <td>Legitimate</td>\n",
       "    </tr>\n",
       "    <tr>\n",
       "      <th>2</th>\n",
       "      <td>1</td>\n",
       "      <td>-1</td>\n",
       "      <td>0</td>\n",
       "      <td>0</td>\n",
       "      <td>-1</td>\n",
       "      <td>0</td>\n",
       "      <td>-1</td>\n",
       "      <td>1</td>\n",
       "      <td>0</td>\n",
       "      <td>1</td>\n",
       "      <td>Legitimate</td>\n",
       "    </tr>\n",
       "    <tr>\n",
       "      <th>3</th>\n",
       "      <td>1</td>\n",
       "      <td>0</td>\n",
       "      <td>1</td>\n",
       "      <td>-1</td>\n",
       "      <td>-1</td>\n",
       "      <td>0</td>\n",
       "      <td>1</td>\n",
       "      <td>1</td>\n",
       "      <td>0</td>\n",
       "      <td>0</td>\n",
       "      <td>Suspicious</td>\n",
       "    </tr>\n",
       "    <tr>\n",
       "      <th>4</th>\n",
       "      <td>-1</td>\n",
       "      <td>-1</td>\n",
       "      <td>1</td>\n",
       "      <td>-1</td>\n",
       "      <td>0</td>\n",
       "      <td>0</td>\n",
       "      <td>-1</td>\n",
       "      <td>1</td>\n",
       "      <td>0</td>\n",
       "      <td>1</td>\n",
       "      <td>Legitimate</td>\n",
       "    </tr>\n",
       "  </tbody>\n",
       "</table>\n",
       "</div>"
      ],
      "text/plain": [
       "   SFH  popUpWindow  SSLfinal_State  Request_URL  URL_of_Anchor  web_traffic  \\\n",
       "0    1           -1               1           -1             -1            1   \n",
       "1   -1           -1              -1           -1             -1            0   \n",
       "2    1           -1               0            0             -1            0   \n",
       "3    1            0               1           -1             -1            0   \n",
       "4   -1           -1               1           -1              0            0   \n",
       "\n",
       "   URL_Length  age_of_domain  having_IP_Address  Result       Class  \n",
       "0           1              1                  0       0  Suspicious  \n",
       "1           1              1                  1       1  Legitimate  \n",
       "2          -1              1                  0       1  Legitimate  \n",
       "3           1              1                  0       0  Suspicious  \n",
       "4          -1              1                  0       1  Legitimate  "
      ]
     },
     "execution_count": 3,
     "metadata": {},
     "output_type": "execute_result"
    }
   ],
   "source": [
    "##\n",
    "## Agrego una nueva variable tipo texto representando la variable objetivo\n",
    "##\n",
    "if not 'Class' in data.columns:\n",
    "    data[\"Class\"] = \"\"\n",
    "    data[\"Class\"][data[\"Result\"] == 1] = \"Legitimate\"\n",
    "    data[\"Class\"][data[\"Result\"] == 0] = \"Suspicious\"\n",
    "    data[\"Class\"][data[\"Result\"] == -1] = \"Phishing\"\n",
    "\n",
    "##\n",
    "## Imprimimos una muestra de los datos\n",
    "##\n",
    "data.head()"
   ]
  },
  {
   "cell_type": "markdown",
   "metadata": {},
   "source": [
    "### Exploración de los datos\n",
    "\n",
    "#### Validación balance de la variable objetivo"
   ]
  },
  {
   "cell_type": "code",
   "execution_count": 4,
   "metadata": {},
   "outputs": [
    {
     "data": {
      "text/plain": [
       "<matplotlib.axes._subplots.AxesSubplot at 0xb73e400>"
      ]
     },
     "execution_count": 4,
     "metadata": {},
     "output_type": "execute_result"
    },
    {
     "data": {
      "image/png": "[encoded data removed]",
      "text/plain": [
       "<matplotlib.figure.Figure at 0xb73ea90>"
      ]
     },
     "metadata": {
      "needs_background": "light"
     },
     "output_type": "display_data"
    }
   ],
   "source": [
    "##\n",
    "## Confirmamos la densidad de registros\n",
    "##\n",
    "f, ax = plt.subplots(figsize=(10, 6))\n",
    "sns.countplot(x=\"Class\", data=data, ax=ax)"
   ]
  },
  {
   "cell_type": "code",
   "execution_count": 5,
   "metadata": {},
   "outputs": [
    {
     "data": {
      "text/html": [
       "<div>\n",
       "<style scoped>\n",
       "    .dataframe tbody tr th:only-of-type {\n",
       "        vertical-align: middle;\n",
       "    }\n",
       "\n",
       "    .dataframe tbody tr th {\n",
       "        vertical-align: top;\n",
       "    }\n",
       "\n",
       "    .dataframe thead th {\n",
       "        text-align: right;\n",
       "    }\n",
       "</style>\n",
       "<table border=\"1\" class=\"dataframe\">\n",
       "  <thead>\n",
       "    <tr style=\"text-align: right;\">\n",
       "      <th></th>\n",
       "      <th>Suspicious</th>\n",
       "      <th>Legitimate</th>\n",
       "      <th>Phishing</th>\n",
       "    </tr>\n",
       "  </thead>\n",
       "  <tbody>\n",
       "    <tr>\n",
       "      <th>0</th>\n",
       "      <td>8%</td>\n",
       "      <td>41%</td>\n",
       "      <td>52%</td>\n",
       "    </tr>\n",
       "  </tbody>\n",
       "</table>\n",
       "</div>"
      ],
      "text/plain": [
       "  Suspicious Legitimate Phishing\n",
       "0         8%        41%      52%"
      ]
     },
     "execution_count": 5,
     "metadata": {},
     "output_type": "execute_result"
    }
   ],
   "source": [
    "##\n",
    "## Mostramos balance de registros en porcentaje por categoria\n",
    "##\n",
    "category = pd.Categorical.from_array(data.Class)\n",
    "freqs = category.describe().freqs\n",
    "class_name = list(freqs.index.categories)\n",
    "class_name = [class_name[2], class_name[0], class_name[1]]\n",
    "class_freq = list([str(int(round(i, 2)*100))+\"%\" for i in freqs.values])\n",
    "class_freq = [[class_freq[2], class_freq[0], class_freq[1]]]\n",
    "pd.DataFrame(data=class_freq, columns=class_name)"
   ]
  },
  {
   "cell_type": "markdown",
   "metadata": {},
   "source": [
    "El resultado anterior indica que el **41%** de los datos corresponde a sitios legítimos y el **52%** a sitios categorizados como phishing, dejanto tanto solo un **8%** de sitios que son sospechosos. Podemos considerar que la muestra de registros se encuentra balanceada."
   ]
  },
  {
   "cell_type": "markdown",
   "metadata": {},
   "source": [
    "#### Estadísticos del conjunto de datos"
   ]
  },
  {
   "cell_type": "code",
   "execution_count": 6,
   "metadata": {},
   "outputs": [
    {
     "data": {
      "text/html": [
       "<div>\n",
       "<style scoped>\n",
       "    .dataframe tbody tr th:only-of-type {\n",
       "        vertical-align: middle;\n",
       "    }\n",
       "\n",
       "    .dataframe tbody tr th {\n",
       "        vertical-align: top;\n",
       "    }\n",
       "\n",
       "    .dataframe thead th {\n",
       "        text-align: right;\n",
       "    }\n",
       "</style>\n",
       "<table border=\"1\" class=\"dataframe\">\n",
       "  <thead>\n",
       "    <tr style=\"text-align: right;\">\n",
       "      <th></th>\n",
       "      <th>SFH</th>\n",
       "      <th>popUpWindow</th>\n",
       "      <th>SSLfinal_State</th>\n",
       "      <th>Request_URL</th>\n",
       "      <th>URL_of_Anchor</th>\n",
       "      <th>web_traffic</th>\n",
       "      <th>URL_Length</th>\n",
       "      <th>age_of_domain</th>\n",
       "      <th>having_IP_Address</th>\n",
       "      <th>Result</th>\n",
       "    </tr>\n",
       "  </thead>\n",
       "  <tbody>\n",
       "    <tr>\n",
       "      <th>count</th>\n",
       "      <td>1353.000000</td>\n",
       "      <td>1353.000000</td>\n",
       "      <td>1353.000000</td>\n",
       "      <td>1353.000000</td>\n",
       "      <td>1353.000000</td>\n",
       "      <td>1353.000000</td>\n",
       "      <td>1353.000000</td>\n",
       "      <td>1353.000000</td>\n",
       "      <td>1353.000000</td>\n",
       "      <td>1353.000000</td>\n",
       "    </tr>\n",
       "    <tr>\n",
       "      <th>mean</th>\n",
       "      <td>0.237990</td>\n",
       "      <td>-0.258684</td>\n",
       "      <td>0.327421</td>\n",
       "      <td>-0.223208</td>\n",
       "      <td>-0.025129</td>\n",
       "      <td>0.000000</td>\n",
       "      <td>-0.053215</td>\n",
       "      <td>0.219512</td>\n",
       "      <td>0.114560</td>\n",
       "      <td>-0.113821</td>\n",
       "    </tr>\n",
       "    <tr>\n",
       "      <th>std</th>\n",
       "      <td>0.916389</td>\n",
       "      <td>0.679072</td>\n",
       "      <td>0.822193</td>\n",
       "      <td>0.799682</td>\n",
       "      <td>0.936262</td>\n",
       "      <td>0.806776</td>\n",
       "      <td>0.762552</td>\n",
       "      <td>0.975970</td>\n",
       "      <td>0.318608</td>\n",
       "      <td>0.954773</td>\n",
       "    </tr>\n",
       "    <tr>\n",
       "      <th>min</th>\n",
       "      <td>-1.000000</td>\n",
       "      <td>-1.000000</td>\n",
       "      <td>-1.000000</td>\n",
       "      <td>-1.000000</td>\n",
       "      <td>-1.000000</td>\n",
       "      <td>-1.000000</td>\n",
       "      <td>-1.000000</td>\n",
       "      <td>-1.000000</td>\n",
       "      <td>0.000000</td>\n",
       "      <td>-1.000000</td>\n",
       "    </tr>\n",
       "    <tr>\n",
       "      <th>25%</th>\n",
       "      <td>-1.000000</td>\n",
       "      <td>-1.000000</td>\n",
       "      <td>0.000000</td>\n",
       "      <td>-1.000000</td>\n",
       "      <td>-1.000000</td>\n",
       "      <td>-1.000000</td>\n",
       "      <td>-1.000000</td>\n",
       "      <td>-1.000000</td>\n",
       "      <td>0.000000</td>\n",
       "      <td>-1.000000</td>\n",
       "    </tr>\n",
       "    <tr>\n",
       "      <th>50%</th>\n",
       "      <td>1.000000</td>\n",
       "      <td>0.000000</td>\n",
       "      <td>1.000000</td>\n",
       "      <td>0.000000</td>\n",
       "      <td>0.000000</td>\n",
       "      <td>0.000000</td>\n",
       "      <td>0.000000</td>\n",
       "      <td>1.000000</td>\n",
       "      <td>0.000000</td>\n",
       "      <td>-1.000000</td>\n",
       "    </tr>\n",
       "    <tr>\n",
       "      <th>75%</th>\n",
       "      <td>1.000000</td>\n",
       "      <td>0.000000</td>\n",
       "      <td>1.000000</td>\n",
       "      <td>0.000000</td>\n",
       "      <td>1.000000</td>\n",
       "      <td>1.000000</td>\n",
       "      <td>1.000000</td>\n",
       "      <td>1.000000</td>\n",
       "      <td>0.000000</td>\n",
       "      <td>1.000000</td>\n",
       "    </tr>\n",
       "    <tr>\n",
       "      <th>max</th>\n",
       "      <td>1.000000</td>\n",
       "      <td>1.000000</td>\n",
       "      <td>1.000000</td>\n",
       "      <td>1.000000</td>\n",
       "      <td>1.000000</td>\n",
       "      <td>1.000000</td>\n",
       "      <td>1.000000</td>\n",
       "      <td>1.000000</td>\n",
       "      <td>1.000000</td>\n",
       "      <td>1.000000</td>\n",
       "    </tr>\n",
       "  </tbody>\n",
       "</table>\n",
       "</div>"
      ],
      "text/plain": [
       "               SFH  popUpWindow  SSLfinal_State  Request_URL  URL_of_Anchor  \\\n",
       "count  1353.000000  1353.000000     1353.000000  1353.000000    1353.000000   \n",
       "mean      0.237990    -0.258684        0.327421    -0.223208      -0.025129   \n",
       "std       0.916389     0.679072        0.822193     0.799682       0.936262   \n",
       "min      -1.000000    -1.000000       -1.000000    -1.000000      -1.000000   \n",
       "25%      -1.000000    -1.000000        0.000000    -1.000000      -1.000000   \n",
       "50%       1.000000     0.000000        1.000000     0.000000       0.000000   \n",
       "75%       1.000000     0.000000        1.000000     0.000000       1.000000   \n",
       "max       1.000000     1.000000        1.000000     1.000000       1.000000   \n",
       "\n",
       "       web_traffic   URL_Length  age_of_domain  having_IP_Address       Result  \n",
       "count  1353.000000  1353.000000    1353.000000        1353.000000  1353.000000  \n",
       "mean      0.000000    -0.053215       0.219512           0.114560    -0.113821  \n",
       "std       0.806776     0.762552       0.975970           0.318608     0.954773  \n",
       "min      -1.000000    -1.000000      -1.000000           0.000000    -1.000000  \n",
       "25%      -1.000000    -1.000000      -1.000000           0.000000    -1.000000  \n",
       "50%       0.000000     0.000000       1.000000           0.000000    -1.000000  \n",
       "75%       1.000000     1.000000       1.000000           0.000000     1.000000  \n",
       "max       1.000000     1.000000       1.000000           1.000000     1.000000  "
      ]
     },
     "execution_count": 6,
     "metadata": {},
     "output_type": "execute_result"
    }
   ],
   "source": [
    "##\n",
    "## Verificamos la lectura de los datos con estadísticos básicos\n",
    "##\n",
    "data.describe()"
   ]
  },
  {
   "cell_type": "markdown",
   "metadata": {},
   "source": [
    "La tabla anterior permite deducir que todas las variables del conjunto de datos se encuentran **a una misma escala**, por lo tanto, no se requiere realizar procesos de normalización o estandarización. También deducimos que los datos no siguen ninguna distribución dado el rango de valores que toman: {-1, 0, 1}"
   ]
  },
  {
   "cell_type": "markdown",
   "metadata": {},
   "source": [
    "#### Análisis de correlaciones entre atributos"
   ]
  },
  {
   "cell_type": "code",
   "execution_count": 7,
   "metadata": {},
   "outputs": [
    {
     "data": {
      "text/plain": [
       "<seaborn.axisgrid.PairGrid at 0xbbf0c88>"
      ]
     },
     "execution_count": 7,
     "metadata": {},
     "output_type": "execute_result"
    },
    {
     "data": {
      "image/png": "[encoded data removed]",
      "text/plain": [
       "<matplotlib.figure.Figure at 0xbbbf160>"
      ]
     },
     "metadata": {
      "needs_background": "light"
     },
     "output_type": "display_data"
    }
   ],
   "source": [
    "##\n",
    "## Graficamos histogramas por variable y dispersión para cada combinación par\n",
    "##\n",
    "sns.pairplot(data)"
   ]
  },
  {
   "cell_type": "code",
   "execution_count": 8,
   "metadata": {},
   "outputs": [
    {
     "data": {
      "text/plain": [
       "<matplotlib.axes._subplots.AxesSubplot at 0x115bb828>"
      ]
     },
     "execution_count": 8,
     "metadata": {},
     "output_type": "execute_result"
    },
    {
     "data": {
      "image/png": "[encoded data removed]",
      "text/plain": [
       "<matplotlib.figure.Figure at 0x12203fd0>"
      ]
     },
     "metadata": {
      "needs_background": "light"
     },
     "output_type": "display_data"
    }
   ],
   "source": [
    "##\n",
    "## Correlaciones para las variables del conjunto de datos\n",
    "##\n",
    "f, ax = plt.subplots(figsize=(12, 8))\n",
    "sns.heatmap(data.corr(method = 'pearson'), fmt=\"d\", linewidths=.5, ax=ax)"
   ]
  },
  {
   "cell_type": "markdown",
   "metadata": {},
   "source": [
    "Las gráficas anteriores permiten concluir que los atributos **no siguen una distribución normal**. Igualmente, entendemos que **no pueden correlacionarse**, es decir, ningún par de características sigue una tendencia proporcional o inversa que este cercana a 1 o -1. Por lo tanto, no se procederá con análisis de componentes principales (PCA) ni con selección de características (Feature Selection)."
   ]
  },
  {
   "cell_type": "markdown",
   "metadata": {},
   "source": [
    "### Verificación de calidad de datos\n",
    "Realizamos un chequeo de los tipos de dato que tiene cada variable de la muestra, debemos asegurarnos que tanto las características como la variable objetivo tengan tipos numéricos para asegurar un adecuado procesamiento de las metodologías de modelado."
   ]
  },
  {
   "cell_type": "code",
   "execution_count": 9,
   "metadata": {},
   "outputs": [
    {
     "name": "stdout",
     "output_type": "stream",
     "text": [
      "<class 'pandas.core.frame.DataFrame'>\n",
      "RangeIndex: 1353 entries, 0 to 1352\n",
      "Data columns (total 11 columns):\n",
      "SFH                  1353 non-null int64\n",
      "popUpWindow          1353 non-null int64\n",
      "SSLfinal_State       1353 non-null int64\n",
      "Request_URL          1353 non-null int64\n",
      "URL_of_Anchor        1353 non-null int64\n",
      "web_traffic          1353 non-null int64\n",
      "URL_Length           1353 non-null int64\n",
      "age_of_domain        1353 non-null int64\n",
      "having_IP_Address    1353 non-null int64\n",
      "Result               1353 non-null int64\n",
      "Class                1353 non-null object\n",
      "dtypes: int64(10), object(1)\n",
      "memory usage: 116.4+ KB\n"
     ]
    }
   ],
   "source": [
    "data.info()"
   ]
  },
  {
   "cell_type": "markdown",
   "metadata": {},
   "source": [
    "El primer indicador es que ninguno de los atributos tiene datos **Nulos**. Por otro lado, confirmamos que los tipos de datos para las características y la variable objetivo son correctos: **int64**. La variable *Class* no se tiene en cuenta en este análisis ya que será retirada en la fase de preparación de datos."
   ]
  },
  {
   "cell_type": "markdown",
   "metadata": {},
   "source": [
    "# Preparación de los datos\n",
    "---\n",
    "\n",
    "Considerando que no se requiere realizar eliminación de características por correlaciones, transformación de tipos de datos, estandarización o normalización, selección de características y análisis de componentes principales, procederemos con el retiro de la variable **Class** del conjunto de datos, dado que no se requieren más tareas exploratorias. Igualmente, separaremos la variable objeto de las características para pronostico e finalmente se generará el conjunto de entrenamiento y prueba."
   ]
  },
  {
   "cell_type": "markdown",
   "metadata": {},
   "source": [
    "### Selección de los datos"
   ]
  },
  {
   "cell_type": "code",
   "execution_count": 10,
   "metadata": {},
   "outputs": [
    {
     "data": {
      "text/html": [
       "<div>\n",
       "<style scoped>\n",
       "    .dataframe tbody tr th:only-of-type {\n",
       "        vertical-align: middle;\n",
       "    }\n",
       "\n",
       "    .dataframe tbody tr th {\n",
       "        vertical-align: top;\n",
       "    }\n",
       "\n",
       "    .dataframe thead th {\n",
       "        text-align: right;\n",
       "    }\n",
       "</style>\n",
       "<table border=\"1\" class=\"dataframe\">\n",
       "  <thead>\n",
       "    <tr style=\"text-align: right;\">\n",
       "      <th></th>\n",
       "      <th>SFH</th>\n",
       "      <th>popUpWindow</th>\n",
       "      <th>SSLfinal_State</th>\n",
       "      <th>Request_URL</th>\n",
       "      <th>URL_of_Anchor</th>\n",
       "      <th>web_traffic</th>\n",
       "      <th>URL_Length</th>\n",
       "      <th>age_of_domain</th>\n",
       "      <th>having_IP_Address</th>\n",
       "      <th>Result</th>\n",
       "    </tr>\n",
       "  </thead>\n",
       "  <tbody>\n",
       "    <tr>\n",
       "      <th>0</th>\n",
       "      <td>1</td>\n",
       "      <td>-1</td>\n",
       "      <td>1</td>\n",
       "      <td>-1</td>\n",
       "      <td>-1</td>\n",
       "      <td>1</td>\n",
       "      <td>1</td>\n",
       "      <td>1</td>\n",
       "      <td>0</td>\n",
       "      <td>0</td>\n",
       "    </tr>\n",
       "    <tr>\n",
       "      <th>1</th>\n",
       "      <td>-1</td>\n",
       "      <td>-1</td>\n",
       "      <td>-1</td>\n",
       "      <td>-1</td>\n",
       "      <td>-1</td>\n",
       "      <td>0</td>\n",
       "      <td>1</td>\n",
       "      <td>1</td>\n",
       "      <td>1</td>\n",
       "      <td>1</td>\n",
       "    </tr>\n",
       "    <tr>\n",
       "      <th>2</th>\n",
       "      <td>1</td>\n",
       "      <td>-1</td>\n",
       "      <td>0</td>\n",
       "      <td>0</td>\n",
       "      <td>-1</td>\n",
       "      <td>0</td>\n",
       "      <td>-1</td>\n",
       "      <td>1</td>\n",
       "      <td>0</td>\n",
       "      <td>1</td>\n",
       "    </tr>\n",
       "    <tr>\n",
       "      <th>3</th>\n",
       "      <td>1</td>\n",
       "      <td>0</td>\n",
       "      <td>1</td>\n",
       "      <td>-1</td>\n",
       "      <td>-1</td>\n",
       "      <td>0</td>\n",
       "      <td>1</td>\n",
       "      <td>1</td>\n",
       "      <td>0</td>\n",
       "      <td>0</td>\n",
       "    </tr>\n",
       "    <tr>\n",
       "      <th>4</th>\n",
       "      <td>-1</td>\n",
       "      <td>-1</td>\n",
       "      <td>1</td>\n",
       "      <td>-1</td>\n",
       "      <td>0</td>\n",
       "      <td>0</td>\n",
       "      <td>-1</td>\n",
       "      <td>1</td>\n",
       "      <td>0</td>\n",
       "      <td>1</td>\n",
       "    </tr>\n",
       "  </tbody>\n",
       "</table>\n",
       "</div>"
      ],
      "text/plain": [
       "   SFH  popUpWindow  SSLfinal_State  Request_URL  URL_of_Anchor  web_traffic  \\\n",
       "0    1           -1               1           -1             -1            1   \n",
       "1   -1           -1              -1           -1             -1            0   \n",
       "2    1           -1               0            0             -1            0   \n",
       "3    1            0               1           -1             -1            0   \n",
       "4   -1           -1               1           -1              0            0   \n",
       "\n",
       "   URL_Length  age_of_domain  having_IP_Address  Result  \n",
       "0           1              1                  0       0  \n",
       "1           1              1                  1       1  \n",
       "2          -1              1                  0       1  \n",
       "3           1              1                  0       0  \n",
       "4          -1              1                  0       1  "
      ]
     },
     "execution_count": 10,
     "metadata": {},
     "output_type": "execute_result"
    }
   ],
   "source": [
    "##\n",
    "## Eliminamos las columnas no requeridas\n",
    "##\n",
    "if 'Class' in data.columns:\n",
    "    data.drop(columns=[\"Class\"], inplace=True)\n",
    "\n",
    "##\n",
    "## Presentamos un parte de los datos sin la columna eliminada\n",
    "##\n",
    "data.head()"
   ]
  },
  {
   "cell_type": "code",
   "execution_count": 11,
   "metadata": {},
   "outputs": [],
   "source": [
    "##\n",
    "## Separamos la varible objetivo del conjunto de datos\n",
    "##\n",
    "X_columns = [name for name in data.columns if name != \"Result\"]   # Nombres caracteristicas modelado\n",
    "y = data.loc[:,\"Result\"]   # Datos variable objetivo\n",
    "X = data.loc[:,X_columns]  # Datos caracteristicas modelado\n",
    "X_names = X.columns    # Nombres caracteristicas modelado\n",
    "\n",
    "##\n",
    "## Convertimos los valores objetivos en enteros, para que no genere error el fit\n",
    "##\n",
    "y = y.astype('int')\n",
    "\n",
    "##\n",
    "## Realizamos una copia del conjunto de características y variable objetivo original\n",
    "##\n",
    "X_org = X.copy()\n",
    "y_org = y.copy()"
   ]
  },
  {
   "cell_type": "markdown",
   "metadata": {},
   "source": [
    "### Construcción de datos"
   ]
  },
  {
   "cell_type": "code",
   "execution_count": 12,
   "metadata": {},
   "outputs": [
    {
     "data": {
      "text/plain": [
       "<matplotlib.axes._subplots.AxesSubplot at 0x12246e10>"
      ]
     },
     "execution_count": 12,
     "metadata": {},
     "output_type": "execute_result"
    },
    {
     "data": {
      "image/png": "[encoded data removed]",
      "text/plain": [
       "<matplotlib.figure.Figure at 0x11555668>"
      ]
     },
     "metadata": {
      "needs_background": "light"
     },
     "output_type": "display_data"
    }
   ],
   "source": [
    "##\n",
    "## Validamos escala de valores entre las caractetisticas de modelado\n",
    "##\n",
    "f, ax = plt.subplots(figsize=(14, 6))\n",
    "sns.boxplot(data=X, ax=ax)"
   ]
  },
  {
   "cell_type": "markdown",
   "metadata": {},
   "source": [
    "Como se expresó anteriormente, **no se realizará escalado** de los datos, dado que la gráfica anterior evidencia que las unidades de los atributos esta dentro del mismo rango."
   ]
  },
  {
   "cell_type": "markdown",
   "metadata": {},
   "source": [
    "# Modelado y Evaluación\n",
    "---\n",
    "\n",
    "### Selección de la técnica de modelado\n",
    "\n",
    "Para realizar el modelado predictivo se utilizaran las siguientes metodologías de clasificación:\n",
    "- [Nearest Neighbors](http://scikit-learn.org/stable/modules/neighbors.html)\n",
    "- [Decision Tree](http://scikit-learn.org/stable/modules/generated/sklearn.tree.DecisionTreeClassifier.html)\n",
    "- [Random Forest](http://scikit-learn.org/stable/modules/generated/sklearn.ensemble.RandomForestClassifier.html#sklearn.ensemble.RandomForestClassifier)\n",
    "- [C-Support Vector](http://scikit-learn.org/stable/modules/generated/sklearn.svm.SVC.html#sklearn.svm.SVC)\n",
    "\n",
    "Para cada una se realizará un proceso de modelado y evaluación utilizando [cross-validation](http://scikit-learn.org/stable/modules/cross_validation.html#computing-cross-validated-metrics) e [hyper-parameters tuning](http://scikit-learn.org/stable/modules/generated/sklearn.model_selection.GridSearchCV.html#sklearn.model_selection.GridSearchCV). Al final del proceso y luego de examinar los scores (accuracy, confusion matrix) será seleccionado el modelo con mejor **desempeño**. Los parámetros generales del ajuste de hiperparametros son los siguientes:\n",
    "- Cross Validation: 5-Folds\n",
    "- Scoring: macro\n",
    "- Number of Jobs: 3\n",
    "\n",
    "Para comenzar, realizamos partición de los datos en **Entrenamiento** y **Prueba** utilizando una proporción del conjunto de datos 70% y 30%, respectivamente y un valor único semilla para que siempre escoja los mismos valores aleatoriamente (44)."
   ]
  },
  {
   "cell_type": "code",
   "execution_count": 13,
   "metadata": {},
   "outputs": [],
   "source": [
    "##\n",
    "## Definimos variables para el estándar de partición 70% - 30%\n",
    "##\n",
    "test_size = 0.3\n",
    "random_state = 44\n",
    "\n",
    "##\n",
    "## Partición de los datos para probar todos los modelos\n",
    "##\n",
    "X_train, X_test, y_train_true, y_test_true = train_test_split(\n",
    "    X, y,                       # datos originales\n",
    "    test_size=test_size,        # float/int, tamaño de la muestra de prueba\n",
    "    random_state=random_state)  # semilla del generador aleatorio"
   ]
  },
  {
   "cell_type": "code",
   "execution_count": 14,
   "metadata": {},
   "outputs": [],
   "source": [
    "##\n",
    "## Construimos una función personalizada para ejecutar cada metodología\n",
    "##\n",
    "def grid_search_custom(classifier,\n",
    "                       tuned_params,\n",
    "                       scores):\n",
    "    scores_result = []\n",
    "    for score in scores:\n",
    "        print()\n",
    "        print(\"Parámetros ajustados del score: %s\" % score)\n",
    "        print()\n",
    "\n",
    "        # Entrenamiento utilizando cross-validation (folds = 5)\n",
    "        clf = GridSearchCV(classifier, tuned_params, cv=5, scoring='%s_macro' % score, n_jobs=3)\n",
    "        clf.fit(X_train, y_train_true)\n",
    "        \n",
    "        print(\"Mejores parámetros encontrados:\")\n",
    "        print(clf.best_params_)\n",
    "        print()\n",
    "        \n",
    "        # Predicción con datos de prueba para validar metricas\n",
    "        y_true, y_pred = y_test_true, clf.predict(X_test)\n",
    "        \n",
    "        print(\"Reporte de clasificación detallado:\")\n",
    "        print()\n",
    "        print(classification_report(y_true, y_pred))\n",
    "        print()\n",
    "        \n",
    "        # Calculo de las métricas de precisión\n",
    "        accuracy_result = accuracy_score(y_true, y_pred)\n",
    "        conf_matrix_result = confusion_matrix(y_true, y_pred)\n",
    "        \n",
    "        scores_result.append([score, \n",
    "                              round(accuracy_result, 4), \n",
    "                              round(1-accuracy_result, 4), \n",
    "                              clf.best_params_,\n",
    "                              conf_matrix_result])\n",
    "    \n",
    "    return(scores_result)"
   ]
  },
  {
   "cell_type": "markdown",
   "metadata": {},
   "source": [
    "### Metodología K-Nearest Neighbors"
   ]
  },
  {
   "cell_type": "code",
   "execution_count": 15,
   "metadata": {},
   "outputs": [
    {
     "name": "stdout",
     "output_type": "stream",
     "text": [
      "Automatically created module for IPython interactive environment\n",
      "\n",
      "Parámetros ajustados del score: precision\n",
      "\n",
      "Mejores parámetros encontrados:\n",
      "{'n_neighbors': 11}\n",
      "\n",
      "Reporte de clasificación detallado:\n",
      "\n",
      "             precision    recall  f1-score   support\n",
      "\n",
      "         -1       0.87      0.89      0.88       194\n",
      "          0       0.73      0.28      0.40        40\n",
      "          1       0.81      0.90      0.85       172\n",
      "\n",
      "avg / total       0.83      0.83      0.82       406\n",
      "\n",
      "\n"
     ]
    }
   ],
   "source": [
    "print(__doc__)\n",
    "\n",
    "# Ajuste de parámetros para la metodología\n",
    "tuned_params = [{'n_neighbors': [11, 31, 51, 71, 91]}]\n",
    "\n",
    "# Metricas seleccionadas para validar metodología\n",
    "scores = ['precision']\n",
    "\n",
    "# Ejecutamos grid search para la metodología\n",
    "knn_result = grid_search_custom(KNeighborsClassifier(), tuned_params, scores)"
   ]
  },
  {
   "cell_type": "markdown",
   "metadata": {},
   "source": [
    "### Metodología Decision Tree"
   ]
  },
  {
   "cell_type": "code",
   "execution_count": 16,
   "metadata": {},
   "outputs": [
    {
     "name": "stdout",
     "output_type": "stream",
     "text": [
      "Automatically created module for IPython interactive environment\n",
      "\n",
      "Parámetros ajustados del score: precision\n",
      "\n",
      "Mejores parámetros encontrados:\n",
      "{'max_depth': 50}\n",
      "\n",
      "Reporte de clasificación detallado:\n",
      "\n",
      "             precision    recall  f1-score   support\n",
      "\n",
      "         -1       0.87      0.93      0.90       194\n",
      "          0       0.90      0.65      0.75        40\n",
      "          1       0.91      0.90      0.90       172\n",
      "\n",
      "avg / total       0.89      0.89      0.89       406\n",
      "\n",
      "\n"
     ]
    }
   ],
   "source": [
    "print(__doc__)\n",
    "\n",
    "# Ajuste de parámetros para la metodología\n",
    "tuned_params = [{'max_depth': [10, 20, 30, 40, 50]}]\n",
    "\n",
    "# Metricas seleccionadas para validar metodología\n",
    "scores = ['precision']\n",
    "\n",
    "# Ejecutamos grid search para la metodología\n",
    "tree_result = grid_search_custom(DecisionTreeClassifier(), tuned_params, scores)"
   ]
  },
  {
   "cell_type": "markdown",
   "metadata": {},
   "source": [
    "### Metodología Random Forest"
   ]
  },
  {
   "cell_type": "code",
   "execution_count": 17,
   "metadata": {},
   "outputs": [
    {
     "name": "stdout",
     "output_type": "stream",
     "text": [
      "Automatically created module for IPython interactive environment\n",
      "\n",
      "Parámetros ajustados del score: precision\n",
      "\n",
      "Mejores parámetros encontrados:\n",
      "{'n_estimators': 40}\n",
      "\n",
      "Reporte de clasificación detallado:\n",
      "\n",
      "             precision    recall  f1-score   support\n",
      "\n",
      "         -1       0.88      0.94      0.91       194\n",
      "          0       0.88      0.55      0.68        40\n",
      "          1       0.90      0.91      0.90       172\n",
      "\n",
      "avg / total       0.89      0.89      0.88       406\n",
      "\n",
      "\n"
     ]
    }
   ],
   "source": [
    "print(__doc__)\n",
    "\n",
    "# Ajuste de parámetros para la metodología\n",
    "tuned_params = [{'n_estimators': [20, 40, 60, 80, 100]}]\n",
    "\n",
    "# Metricas seleccionadas para validar metodología\n",
    "scores = ['precision']\n",
    "\n",
    "# Ejecutamos grid search para la metodología\n",
    "forest_result = grid_search_custom(RandomForestClassifier(), tuned_params, scores)"
   ]
  },
  {
   "cell_type": "markdown",
   "metadata": {},
   "source": [
    "### Metodología C-Support Vector Machine"
   ]
  },
  {
   "cell_type": "code",
   "execution_count": 18,
   "metadata": {},
   "outputs": [
    {
     "name": "stdout",
     "output_type": "stream",
     "text": [
      "Automatically created module for IPython interactive environment\n",
      "\n",
      "Parámetros ajustados del score: precision\n",
      "\n",
      "Mejores parámetros encontrados:\n",
      "{'C': 10, 'gamma': 0.1, 'kernel': 'rbf'}\n",
      "\n",
      "Reporte de clasificación detallado:\n",
      "\n",
      "             precision    recall  f1-score   support\n",
      "\n",
      "         -1       0.91      0.93      0.92       194\n",
      "          0       0.86      0.62      0.72        40\n",
      "          1       0.88      0.91      0.89       172\n",
      "\n",
      "avg / total       0.89      0.89      0.89       406\n",
      "\n",
      "\n"
     ]
    }
   ],
   "source": [
    "print(__doc__)\n",
    "\n",
    "# Ajuste de parámetros para la metodología\n",
    "tuned_params = [{'kernel': ['rbf'], 'gamma': [0.1, 0.01, 0.001], 'C': [1, 10, 100]},\n",
    "                {'kernel': ['linear'], 'C': [1, 10, 100]}]\n",
    "\n",
    "# Metricas seleccionadas para validar metodología\n",
    "scores = ['precision']\n",
    "\n",
    "# Ejecutamos grid search para la metodología\n",
    "svm_result = grid_search_custom(SVC(), tuned_params, scores)"
   ]
  },
  {
   "cell_type": "markdown",
   "metadata": {},
   "source": [
    "### Evaluación del modelado\n",
    "A continuación se presentará un reporte de los resultados obtenidos del proceso de modelado con las 4 metodologías seleccionadas: K-Nearest Neighbors, Decision Tree, Random Forest y C-Support Vector Machine. Este reporte muestra las métricas de accuracy y error rate. Se evaluaran los resultados y se tomará una decisión respecto del modelo con **mejor desempeño**."
   ]
  },
  {
   "cell_type": "code",
   "execution_count": 19,
   "metadata": {},
   "outputs": [
    {
     "data": {
      "text/html": [
       "<style  type=\"text/css\" >\n",
       "    #T_270bfe88_f64c_11e8_a5f8_54b54ca4da1crow3_col1 {\n",
       "            background-color:  cyan;\n",
       "        }</style>  \n",
       "<table id=\"T_270bfe88_f64c_11e8_a5f8_54b54ca4da1c\" > \n",
       "<thead>    <tr> \n",
       "        <th class=\"blank level0\" ></th> \n",
       "        <th class=\"col_heading level0 col0\" >score</th> \n",
       "        <th class=\"col_heading level0 col1\" >accuracy</th> \n",
       "        <th class=\"col_heading level0 col2\" >error_rate</th> \n",
       "        <th class=\"col_heading level0 col3\" >best_params</th> \n",
       "    </tr></thead> \n",
       "<tbody>    <tr> \n",
       "        <th id=\"T_270bfe88_f64c_11e8_a5f8_54b54ca4da1clevel0_row0\" class=\"row_heading level0 row0\" >KNearestNeighbors</th> \n",
       "        <td id=\"T_270bfe88_f64c_11e8_a5f8_54b54ca4da1crow0_col0\" class=\"data row0 col0\" >precision</td> \n",
       "        <td id=\"T_270bfe88_f64c_11e8_a5f8_54b54ca4da1crow0_col1\" class=\"data row0 col1\" >0.835</td> \n",
       "        <td id=\"T_270bfe88_f64c_11e8_a5f8_54b54ca4da1crow0_col2\" class=\"data row0 col2\" >0.165</td> \n",
       "        <td id=\"T_270bfe88_f64c_11e8_a5f8_54b54ca4da1crow0_col3\" class=\"data row0 col3\" >{'n_neighbors': 11}</td> \n",
       "    </tr>    <tr> \n",
       "        <th id=\"T_270bfe88_f64c_11e8_a5f8_54b54ca4da1clevel0_row1\" class=\"row_heading level0 row1\" >DecisionTree</th> \n",
       "        <td id=\"T_270bfe88_f64c_11e8_a5f8_54b54ca4da1crow1_col0\" class=\"data row1 col0\" >precision</td> \n",
       "        <td id=\"T_270bfe88_f64c_11e8_a5f8_54b54ca4da1crow1_col1\" class=\"data row1 col1\" >0.8892</td> \n",
       "        <td id=\"T_270bfe88_f64c_11e8_a5f8_54b54ca4da1crow1_col2\" class=\"data row1 col2\" >0.1108</td> \n",
       "        <td id=\"T_270bfe88_f64c_11e8_a5f8_54b54ca4da1crow1_col3\" class=\"data row1 col3\" >{'max_depth': 50}</td> \n",
       "    </tr>    <tr> \n",
       "        <th id=\"T_270bfe88_f64c_11e8_a5f8_54b54ca4da1clevel0_row2\" class=\"row_heading level0 row2\" >RandomForest</th> \n",
       "        <td id=\"T_270bfe88_f64c_11e8_a5f8_54b54ca4da1crow2_col0\" class=\"data row2 col0\" >precision</td> \n",
       "        <td id=\"T_270bfe88_f64c_11e8_a5f8_54b54ca4da1crow2_col1\" class=\"data row2 col1\" >0.8892</td> \n",
       "        <td id=\"T_270bfe88_f64c_11e8_a5f8_54b54ca4da1crow2_col2\" class=\"data row2 col2\" >0.1108</td> \n",
       "        <td id=\"T_270bfe88_f64c_11e8_a5f8_54b54ca4da1crow2_col3\" class=\"data row2 col3\" >{'n_estimators': 40}</td> \n",
       "    </tr>    <tr> \n",
       "        <th id=\"T_270bfe88_f64c_11e8_a5f8_54b54ca4da1clevel0_row3\" class=\"row_heading level0 row3\" >SupportVectorMachine</th> \n",
       "        <td id=\"T_270bfe88_f64c_11e8_a5f8_54b54ca4da1crow3_col0\" class=\"data row3 col0\" >precision</td> \n",
       "        <td id=\"T_270bfe88_f64c_11e8_a5f8_54b54ca4da1crow3_col1\" class=\"data row3 col1\" >0.8916</td> \n",
       "        <td id=\"T_270bfe88_f64c_11e8_a5f8_54b54ca4da1crow3_col2\" class=\"data row3 col2\" >0.1084</td> \n",
       "        <td id=\"T_270bfe88_f64c_11e8_a5f8_54b54ca4da1crow3_col3\" class=\"data row3 col3\" >{'C': 10, 'gamma': 0.1, 'kernel': 'rbf'}</td> \n",
       "    </tr></tbody> \n",
       "</table> "
      ],
      "text/plain": [
       "<pandas.io.formats.style.Styler at 0x12526eb8>"
      ]
     },
     "execution_count": 19,
     "metadata": {},
     "output_type": "execute_result"
    }
   ],
   "source": [
    "##\n",
    "## Construimos un Data Frame con todos los resultados de la evaluación\n",
    "##\n",
    "data_indexes = [\"KNearestNeighbors\", \"DecisionTree\", \"RandomForest\", \"SupportVectorMachine\"]\n",
    "data_columns = [\"score\", \"accuracy\", \"error_rate\", \"best_params\", \"confusion_matriz\"]\n",
    "data_values = [list(chain.from_iterable(knn_result)),\n",
    "               list(chain.from_iterable(tree_result)),\n",
    "               list(chain.from_iterable(forest_result)),\n",
    "               list(chain.from_iterable(svm_result))]\n",
    "data_result = pd.DataFrame(data = data_values, columns = data_columns, index = data_indexes)\n",
    "\n",
    "##\n",
    "## Mostramos los resultados de la evaluación con todos los scores\n",
    "## Con un fondo de color se muestra la mejor estimación\n",
    "##\n",
    "data_result.iloc[:,:-1].style.apply(highlight_max, \n",
    "                                    subset=['accuracy'])"
   ]
  },
  {
   "cell_type": "markdown",
   "metadata": {},
   "source": [
    "Los resultados de **desempeño** anteriores muestran con claridad que el algorítmo que mejor se comporta, dadas las medidas de Accuracy es **C-Support Vector Machine** y los mejores parámetros del clasificador con *'C': 10, 'gamma': 0.1, 'kernel': 'rbf'*; sin embargo, realizaremos un análisis más detallado de los resultados tomando como base los algorítmos con mayor desempeño: **Random Forest** y **C-Support Vector Machine**."
   ]
  },
  {
   "cell_type": "code",
   "execution_count": 20,
   "metadata": {},
   "outputs": [],
   "source": [
    "##\n",
    "## Nueva matrix de confusión solo con los registros de los clasificadores seleccionados\n",
    "##\n",
    "conf_matrix = list(chain.from_iterable(data_result.iloc[:,4:5].values))\n",
    "conf_matrix_new = [conf_matrix[2], conf_matrix[3]]\n",
    "data_index_new = [data_indexes[2], data_indexes[3]]\n",
    "\n",
    "##\n",
    "## Elimino los registros de sospechosos\n",
    "##\n",
    "conf_matrix_copy = conf_matrix_new.copy()\n",
    "conf_matrix_new = []\n",
    "for i in range(len(conf_matrix_copy)):\n",
    "    conf_matrix_aux1 = []\n",
    "    for j in range(len(conf_matrix_copy[i])):\n",
    "        if j != 1:\n",
    "            conf_matrix_aux2 = []\n",
    "            for k in range(len(conf_matrix_copy[i][j])):\n",
    "                if k != 1:\n",
    "                    conf_matrix_aux2.append(conf_matrix_copy[i][j][k])\n",
    "            conf_matrix_aux1.append(conf_matrix_aux2)\n",
    "    conf_matrix_new.append(np.array(conf_matrix_aux1, int))"
   ]
  },
  {
   "cell_type": "markdown",
   "metadata": {},
   "source": [
    "# Análisis de resultados\n",
    "---\n",
    "\n",
    "Tomando como referencia los resultados anteriores, con las diferentes evaluaciones de desempeño de los modelos seleccionados, se procederá a realizar un análisis de los resultados de las predicciones utilizando **matrices de confusión** y los indicadores de **Sensibilidad** y **Especifidad**.\n",
    "\n",
    "#### Matriz de confusión:\n",
    "\n",
    "             | Pronostico\n",
    "             |  P     N  \n",
    "    ---------|------------\n",
    "          P  |  TP    FN  \n",
    "    Real     |            \n",
    "          N  |  FP    TN  \n",
    "    \n",
    "- TP: Verdadero positivo (correcto)\n",
    "- TN: Verdadero negativo (correcto)\n",
    "- FP: Falso positivo (mal clasificado)\n",
    "- FN: Falso negativo (mal clasificado)\n",
    "\n",
    "#### Sensibilidad o tasa verdadera positiva:\n",
    "* Mide la proporción de ejemplos positivos que fueron correctamente clasificados.\n",
    "\n",
    "$$\\text{sensitibity} = \\frac{\\text{TP}}{\\text{TP}  + \\text{FN}}$$\n",
    "\n",
    "#### Especifidad o tasa verdadera negativa:\n",
    "* Mide la proporción de ejemplos negativos correctamente clasificados.\n",
    "\n",
    "$$\\text{specifity} = \\frac{\\text{TN}}{\\text{TN}  + \\text{FP}}$$\n",
    "\n",
    "#### Precisión o valor predictivo positivo:\n",
    "* Proporción de casos positivos que fueron verdaderamente positivos.\n",
    "\n",
    "$$\\text{precision} = \\frac{\\text{TP}}{\\text{TP}  + \\text{FP}}$$\n",
    "\n",
    "#### Valor predictivo negativo:\n",
    "* Proporción de casos negativos que fueron verdaderamente negativos.\n",
    "\n",
    "$$\\text{negative predictive value} = \\frac{\\text{TN}}{\\text{TN}  + \\text{FN}}$$"
   ]
  },
  {
   "cell_type": "code",
   "execution_count": 21,
   "metadata": {},
   "outputs": [
    {
     "data": {
      "image/png": "[encoded data removed]",
      "text/plain": [
       "<matplotlib.figure.Figure at 0x127a0630>"
      ]
     },
     "metadata": {
      "needs_background": "light"
     },
     "output_type": "display_data"
    }
   ],
   "source": [
    "##\n",
    "## Graficamos las matrices de confusión para los mejores estimadores\n",
    "##\n",
    "pred, true = ('predicted', 'true')\n",
    "f, axes = plt.subplots(nrows=1, ncols=2, figsize=(15, 5))\n",
    "for i in range(len(axes)):\n",
    "    axes[i].set_title(data_index_new[i])\n",
    "    axes[i].set_xlabel(pred); axes[i].set_ylabel(true)\n",
    "    sns.heatmap(conf_matrix_new[i], annot=True, fmt=\"d\", linewidths=.5, ax=axes[i])"
   ]
  },
  {
   "cell_type": "code",
   "execution_count": 22,
   "metadata": {},
   "outputs": [
    {
     "data": {
      "text/html": [
       "<style  type=\"text/css\" >\n",
       "    #T_274b2a68_f64c_11e8_8944_54b54ca4da1crow0_col1 {\n",
       "            background-color:  cyan;\n",
       "        }    #T_274b2a68_f64c_11e8_8944_54b54ca4da1crow0_col4 {\n",
       "            background-color:  cyan;\n",
       "        }    #T_274b2a68_f64c_11e8_8944_54b54ca4da1crow1_col2 {\n",
       "            background-color:  cyan;\n",
       "        }    #T_274b2a68_f64c_11e8_8944_54b54ca4da1crow1_col3 {\n",
       "            background-color:  cyan;\n",
       "        }</style>  \n",
       "<table id=\"T_274b2a68_f64c_11e8_8944_54b54ca4da1c\" > \n",
       "<thead>    <tr> \n",
       "        <th class=\"blank level0\" ></th> \n",
       "        <th class=\"col_heading level0 col0\" >estimator</th> \n",
       "        <th class=\"col_heading level0 col1\" >sensitivity</th> \n",
       "        <th class=\"col_heading level0 col2\" >specifity</th> \n",
       "        <th class=\"col_heading level0 col3\" >precision</th> \n",
       "        <th class=\"col_heading level0 col4\" >negative pred value</th> \n",
       "    </tr></thead> \n",
       "<tbody>    <tr> \n",
       "        <th id=\"T_274b2a68_f64c_11e8_8944_54b54ca4da1clevel0_row0\" class=\"row_heading level0 row0\" >0</th> \n",
       "        <td id=\"T_274b2a68_f64c_11e8_8944_54b54ca4da1crow0_col0\" class=\"data row0 col0\" >RandomForest</td> \n",
       "        <td id=\"T_274b2a68_f64c_11e8_8944_54b54ca4da1crow0_col1\" class=\"data row0 col1\" >0.9531</td> \n",
       "        <td id=\"T_274b2a68_f64c_11e8_8944_54b54ca4da1crow0_col2\" class=\"data row0 col2\" >0.9123</td> \n",
       "        <td id=\"T_274b2a68_f64c_11e8_8944_54b54ca4da1crow0_col3\" class=\"data row0 col3\" >0.9242</td> \n",
       "        <td id=\"T_274b2a68_f64c_11e8_8944_54b54ca4da1crow0_col4\" class=\"data row0 col4\" >0.9455</td> \n",
       "    </tr>    <tr> \n",
       "        <th id=\"T_274b2a68_f64c_11e8_8944_54b54ca4da1clevel0_row1\" class=\"row_heading level0 row1\" >1</th> \n",
       "        <td id=\"T_274b2a68_f64c_11e8_8944_54b54ca4da1crow1_col0\" class=\"data row1 col0\" >SupportVectorMachine</td> \n",
       "        <td id=\"T_274b2a68_f64c_11e8_8944_54b54ca4da1crow1_col1\" class=\"data row1 col1\" >0.9375</td> \n",
       "        <td id=\"T_274b2a68_f64c_11e8_8944_54b54ca4da1crow1_col2\" class=\"data row1 col2\" >0.9235</td> \n",
       "        <td id=\"T_274b2a68_f64c_11e8_8944_54b54ca4da1crow1_col3\" class=\"data row1 col3\" >0.9326</td> \n",
       "        <td id=\"T_274b2a68_f64c_11e8_8944_54b54ca4da1crow1_col4\" class=\"data row1 col4\" >0.929</td> \n",
       "    </tr></tbody> \n",
       "</table> "
      ],
      "text/plain": [
       "<pandas.io.formats.style.Styler at 0x127a07b8>"
      ]
     },
     "execution_count": 22,
     "metadata": {},
     "output_type": "execute_result"
    }
   ],
   "source": [
    "##\n",
    "## Calculamos los indicadores requeridos para análisis\n",
    "##\n",
    "data_ind_values = []\n",
    "for i in range(len(conf_matrix_new)):\n",
    "    tp, fn, fp, tn = conf_matrix_new[i].ravel()\n",
    "    prevalence = (tp+fn)/(tp+tn+fp+fn)\n",
    "    sensitivity = tp/(tp+fn)\n",
    "    specifity = tn/(tn+fp)\n",
    "    precision = tp/(tp+fp)\n",
    "    neg_pred_val = tn/(tn+fn)\n",
    "    data_ind_values.append([data_index_new[i], \n",
    "                            #round(prevalence,4),\n",
    "                            round(sensitivity,4), \n",
    "                            round(specifity,4), \n",
    "                            round(precision,4), \n",
    "                            round(neg_pred_val,4)])\n",
    "\n",
    "data_ind_columns = ['estimator', 'sensitivity', 'specifity', 'precision', 'negative pred value']\n",
    "data_ind = pd.DataFrame(columns = data_ind_columns, data = data_ind_values)\n",
    "data_ind.style.apply(highlight_max, subset = ['sensitivity', 'specifity', 'precision', 'negative pred value'])"
   ]
  }
 ],
 "metadata": {
  "kernelspec": {
   "display_name": "Python 3",
   "language": "python",
   "name": "python3"
  },
  "language_info": {
   "codemirror_mode": {
    "name": "ipython",
    "version": 3
   },
   "file_extension": ".py",
   "mimetype": "text/x-python",
   "name": "python",
   "nbconvert_exporter": "python",
   "pygments_lexer": "ipython3",
   "version": "3.6.4"
  }
 },
 "nbformat": 4,
 "nbformat_minor": 2
}
